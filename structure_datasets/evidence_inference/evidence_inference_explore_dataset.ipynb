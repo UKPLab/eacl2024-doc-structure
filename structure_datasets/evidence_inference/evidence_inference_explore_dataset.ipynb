{
 "cells": [
  {
   "cell_type": "code",
   "execution_count": 10,
   "outputs": [],
   "source": [
    "import collections\n",
    "import glob\n",
    "import json\n",
    "import os\n",
    "\n",
    "import pandas as pd\n",
    "\n",
    "import config"
   ],
   "metadata": {
    "collapsed": false,
    "pycharm": {
     "name": "#%%\n"
    }
   }
  },
  {
   "cell_type": "markdown",
   "source": [
    "# Original Evidence Inference Dataset Exploration"
   ],
   "metadata": {
    "collapsed": false,
    "pycharm": {
     "name": "#%% md\n"
    }
   }
  },
  {
   "cell_type": "code",
   "execution_count": 3,
   "outputs": [],
   "source": [
    "# configuration\n",
    "config.load_config_json_file(\"../path_config_local.json\", include_in_hash=False)"
   ],
   "metadata": {
    "collapsed": false,
    "pycharm": {
     "name": "#%%\n"
    }
   }
  },
  {
   "cell_type": "code",
   "execution_count": 17,
   "outputs": [
    {
     "name": "stdout",
     "output_type": "stream",
     "text": [
      "Gathered 4470 XML file paths and 4470 TXT file paths.\n"
     ]
    }
   ],
   "source": [
    "# load the dataset\n",
    "nxml_template = os.path.join(config.get(\"path.EVIDENCE-INFERENCE\"), \"evidence-inference\", \"annotations\", \"xml_files\", \"*.nxml\")\n",
    "nxml_file_paths = glob.glob(nxml_template)\n",
    "nxml_file_paths.sort()\n",
    "\n",
    "txt_template = os.path.join(config.get(\"path.EVIDENCE-INFERENCE\"), \"evidence-inference\", \"annotations\", \"txt_files\", \"*.txt\")\n",
    "txt_file_paths = glob.glob(txt_template)\n",
    "txt_file_paths.sort()\n",
    "\n",
    "prompts_path = os.path.join(config.get(\"path.EVIDENCE-INFERENCE\"), \"evidence-inference\", \"annotations\", \"prompts_merged.csv\")\n",
    "annotations_path = os.path.join(config.get(\"path.EVIDENCE-INFERENCE\"), \"evidence-inference\", \"annotations\", \"annotations_merged.csv\")\n",
    "\n",
    "train_ids_path = os.path.join(config.get(\"path.EVIDENCE-INFERENCE\"), \"evidence-inference\", \"annotations\", \"splits\", \"train_article_ids.txt\")\n",
    "dev_ids_path = os.path.join(config.get(\"path.EVIDENCE-INFERENCE\"), \"evidence-inference\", \"annotations\", \"splits\", \"validation_article_ids.txt\")\n",
    "test_ids_path = os.path.join(config.get(\"path.EVIDENCE-INFERENCE\"), \"evidence-inference\", \"annotations\", \"splits\", \"test_article_ids.txt\")\n",
    "\n",
    "print(f\"Gathered {len(nxml_file_paths)} XML file paths and {len(txt_file_paths)} TXT file paths.\")"
   ],
   "metadata": {
    "collapsed": false,
    "pycharm": {
     "name": "#%%\n"
    }
   }
  },
  {
   "cell_type": "markdown",
   "source": [
    "### Number of invalid annotations"
   ],
   "metadata": {
    "collapsed": false,
    "pycharm": {
     "name": "#%% md\n"
    }
   }
  },
  {
   "cell_type": "code",
   "execution_count": 8,
   "outputs": [
    {
     "name": "stdout",
     "output_type": "stream",
     "text": [
      "Valid label: 24321\n",
      "Invalid label: 365\n",
      "Valid reasoning: 24460\n",
      "Invalid reasoning: 226\n"
     ]
    }
   ],
   "source": [
    "df = pd.read_csv(annotations_path, sep=\",\")\n",
    "\n",
    "num_valid_label, num_invalid_label = 0, 0\n",
    "num_valid_reasoning, num_invalid_reasoning = 0, 0\n",
    "for idx, row in df.iterrows():\n",
    "    if row[\"Valid Label\"]:\n",
    "        num_valid_label += 1\n",
    "    else:\n",
    "        num_invalid_label += 1\n",
    "    if row[\"Valid Reasoning\"]:\n",
    "        num_valid_reasoning += 1\n",
    "    else:\n",
    "        num_invalid_reasoning += 1\n",
    "\n",
    "print(\"Valid label:\", num_valid_label)\n",
    "print(\"Invalid label:\", num_invalid_label)\n",
    "\n",
    "print(\"Valid reasoning:\", num_valid_reasoning)\n",
    "print(\"Invalid reasoning:\", num_invalid_reasoning)"
   ],
   "metadata": {
    "collapsed": false,
    "pycharm": {
     "name": "#%%\n"
    }
   }
  },
  {
   "cell_type": "markdown",
   "source": [
    "### Number of annotations with the same prompt ID and user ID"
   ],
   "metadata": {
    "collapsed": false,
    "pycharm": {
     "name": "#%% md\n"
    }
   }
  },
  {
   "cell_type": "code",
   "execution_count": 16,
   "outputs": [
    {
     "name": "stdout",
     "output_type": "stream",
     "text": [
      "{\n",
      "    \"1\": 22894,\n",
      "    \"2\": 591,\n",
      "    \"3\": 125,\n",
      "    \"4\": 30,\n",
      "    \"5\": 11,\n",
      "    \"6\": 4,\n",
      "    \"8\": 1,\n",
      "    \"9\": 1,\n",
      "    \"7\": 1,\n",
      "    \"12\": 1\n",
      "}\n"
     ]
    }
   ],
   "source": [
    "df = pd.read_csv(annotations_path, sep=\",\")\n",
    "\n",
    "counter = collections.Counter()\n",
    "\n",
    "for idx, row in df.iterrows():\n",
    "    counter[(row[\"PromptID\"], row[\"UserID\"])] += 1\n",
    "\n",
    "values = collections.Counter()\n",
    "for value, count in counter.items():\n",
    "    values[count] += 1\n",
    "\n",
    "print(json.dumps(dict(values.most_common()), indent=4))"
   ],
   "metadata": {
    "collapsed": false,
    "pycharm": {
     "name": "#%%\n"
    }
   }
  },
  {
   "cell_type": "markdown",
   "source": [
    "### Assert that label codes and labels are consistent"
   ],
   "metadata": {
    "collapsed": false,
    "pycharm": {
     "name": "#%% md\n"
    }
   }
  },
  {
   "cell_type": "code",
   "execution_count": 18,
   "outputs": [],
   "source": [
    "df = pd.read_csv(annotations_path, sep=\",\")\n",
    "\n",
    "LABEL_TO_CODE = {\n",
    "    \"significantly decreased\": -1,\n",
    "    \"no significant difference\": 0,\n",
    "    \"significantly increased\": 1\n",
    "}\n",
    "\n",
    "CODE_TO_LABEL = {\n",
    "    -1: \"significantly decreased\",\n",
    "    0: \"no significant difference\",\n",
    "    1: \"significantly increased\"\n",
    "}\n",
    "\n",
    "for idx, row in df.iterrows():\n",
    "    assert LABEL_TO_CODE[row[\"Label\"]] == row[\"Label Code\"]\n",
    "    assert CODE_TO_LABEL[row[\"Label Code\"]] == row[\"Label\"]"
   ],
   "metadata": {
    "collapsed": false,
    "pycharm": {
     "name": "#%%\n"
    }
   }
  }
 ],
 "metadata": {
  "kernelspec": {
   "display_name": "Python 3",
   "language": "python",
   "name": "python3"
  },
  "language_info": {
   "codemirror_mode": {
    "name": "ipython",
    "version": 2
   },
   "file_extension": ".py",
   "mimetype": "text/x-python",
   "name": "python",
   "nbconvert_exporter": "python",
   "pygments_lexer": "ipython2",
   "version": "2.7.6"
  }
 },
 "nbformat": 4,
 "nbformat_minor": 0
}