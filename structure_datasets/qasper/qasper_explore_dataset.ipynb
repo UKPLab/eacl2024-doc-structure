{
 "cells": [
  {
   "cell_type": "code",
   "execution_count": 4,
   "metadata": {},
   "outputs": [],
   "source": [
    "import collections\n",
    "import json\n",
    "import os\n",
    "\n",
    "from repliconfig import config\n",
    "\n",
    "from histogram import histogram\n",
    "from metadata_analyzer import parse_json_object"
   ]
  },
  {
   "cell_type": "markdown",
   "metadata": {},
   "source": [
    "# Original QASPER Dataset Exploration"
   ]
  },
  {
   "cell_type": "code",
   "execution_count": 8,
   "metadata": {},
   "outputs": [
    {
     "ename": "AssertionError",
     "evalue": "The value of \"path.QASPER\" cannot be changed after it has been accessed!",
     "output_type": "error",
     "traceback": [
      "\u001B[1;31m---------------------------------------------------------------------------\u001B[0m",
      "\u001B[1;31mAssertionError\u001B[0m                            Traceback (most recent call last)",
      "Input \u001B[1;32mIn [8]\u001B[0m, in \u001B[0;36m<cell line: 2>\u001B[1;34m()\u001B[0m\n\u001B[0;32m      1\u001B[0m \u001B[38;5;66;03m# configuration\u001B[39;00m\n\u001B[1;32m----> 2\u001B[0m \u001B[43mconfig\u001B[49m\u001B[38;5;241;43m.\u001B[39;49m\u001B[43mload_config_json_file\u001B[49m\u001B[43m(\u001B[49m\u001B[38;5;124;43m\"\u001B[39;49m\u001B[38;5;124;43m../path_config_local.json\u001B[39;49m\u001B[38;5;124;43m\"\u001B[39;49m\u001B[43m,\u001B[49m\u001B[43m \u001B[49m\u001B[43minclude_in_hash\u001B[49m\u001B[38;5;241;43m=\u001B[39;49m\u001B[38;5;28;43;01mFalse\u001B[39;49;00m\u001B[43m)\u001B[49m\n",
      "File \u001B[1;32mD:\\Source\\MA\\ma-venv\\lib\\site-packages\\repliconfig\\config.py:153\u001B[0m, in \u001B[0;36mload_config_json_file\u001B[1;34m(file_path, forced, include_in_hash)\u001B[0m\n\u001B[0;32m    151\u001B[0m \u001B[38;5;28;01mwith\u001B[39;00m \u001B[38;5;28mopen\u001B[39m(file_path, \u001B[38;5;124m\"\u001B[39m\u001B[38;5;124mr\u001B[39m\u001B[38;5;124m\"\u001B[39m, encoding\u001B[38;5;241m=\u001B[39m\u001B[38;5;124m\"\u001B[39m\u001B[38;5;124mutf-8\u001B[39m\u001B[38;5;124m\"\u001B[39m) \u001B[38;5;28;01mas\u001B[39;00m file:\n\u001B[0;32m    152\u001B[0m     config \u001B[38;5;241m=\u001B[39m json\u001B[38;5;241m.\u001B[39mload(file)\n\u001B[1;32m--> 153\u001B[0m \u001B[43mload_config\u001B[49m\u001B[43m(\u001B[49m\u001B[43mconfig\u001B[49m\u001B[43m,\u001B[49m\u001B[43m \u001B[49m\u001B[43mforced\u001B[49m\u001B[43m,\u001B[49m\u001B[43m \u001B[49m\u001B[43minclude_in_hash\u001B[49m\u001B[43m)\u001B[49m\n",
      "File \u001B[1;32mD:\\Source\\MA\\ma-venv\\lib\\site-packages\\repliconfig\\config.py:109\u001B[0m, in \u001B[0;36mload_config\u001B[1;34m(config, forced, include_in_hash)\u001B[0m\n\u001B[0;32m    106\u001B[0m     \u001B[38;5;28;01mraise\u001B[39;00m \u001B[38;5;167;01mTypeError\u001B[39;00m(\u001B[38;5;124mf\u001B[39m\u001B[38;5;124m'\u001B[39m\u001B[38;5;124mThe include_in_hash parameter value \u001B[39m\u001B[38;5;124m\"\u001B[39m\u001B[38;5;132;01m{\u001B[39;00minclude_in_hash\u001B[38;5;132;01m}\u001B[39;00m\u001B[38;5;124m\"\u001B[39m\u001B[38;5;124m is not a bool!\u001B[39m\u001B[38;5;124m'\u001B[39m)\n\u001B[0;32m    108\u001B[0m \u001B[38;5;28;01mfor\u001B[39;00m identifier, value \u001B[38;5;129;01min\u001B[39;00m config\u001B[38;5;241m.\u001B[39mitems():\n\u001B[1;32m--> 109\u001B[0m     \u001B[38;5;28;43mset\u001B[39;49m\u001B[43m(\u001B[49m\u001B[43midentifier\u001B[49m\u001B[43m,\u001B[49m\u001B[43m \u001B[49m\u001B[43mvalue\u001B[49m\u001B[43m,\u001B[49m\u001B[43m \u001B[49m\u001B[43mforced\u001B[49m\u001B[43m,\u001B[49m\u001B[43m \u001B[49m\u001B[43minclude_in_hash\u001B[49m\u001B[43m)\u001B[49m\n",
      "File \u001B[1;32mD:\\Source\\MA\\ma-venv\\lib\\site-packages\\repliconfig\\config.py:73\u001B[0m, in \u001B[0;36mset\u001B[1;34m(identifier, value, forced, include_in_hash)\u001B[0m\n\u001B[0;32m     70\u001B[0m old_value, old_forced, old_include_in_hash, old_accessed \u001B[38;5;241m=\u001B[39m _store[identifier]\n\u001B[0;32m     72\u001B[0m \u001B[38;5;28;01mif\u001B[39;00m old_accessed:\n\u001B[1;32m---> 73\u001B[0m     \u001B[38;5;28;01mraise\u001B[39;00m \u001B[38;5;167;01mAssertionError\u001B[39;00m(\u001B[38;5;124mf\u001B[39m\u001B[38;5;124m'\u001B[39m\u001B[38;5;124mThe value of \u001B[39m\u001B[38;5;124m\"\u001B[39m\u001B[38;5;132;01m{\u001B[39;00midentifier\u001B[38;5;132;01m}\u001B[39;00m\u001B[38;5;124m\"\u001B[39m\u001B[38;5;124m cannot be changed after it has been accessed!\u001B[39m\u001B[38;5;124m'\u001B[39m)\n\u001B[0;32m     75\u001B[0m \u001B[38;5;28;01mif\u001B[39;00m old_forced \u001B[38;5;129;01mand\u001B[39;00m forced:\n\u001B[0;32m     76\u001B[0m     \u001B[38;5;28;01mraise\u001B[39;00m \u001B[38;5;167;01mAssertionError\u001B[39;00m(\u001B[38;5;124mf\u001B[39m\u001B[38;5;124m'\u001B[39m\u001B[38;5;124mThe new value of \u001B[39m\u001B[38;5;124m\"\u001B[39m\u001B[38;5;132;01m{\u001B[39;00midentifier\u001B[38;5;132;01m}\u001B[39;00m\u001B[38;5;124m\"\u001B[39m\u001B[38;5;124m cannot be forced since the old value has already\u001B[39m\u001B[38;5;124m'\u001B[39m\n\u001B[0;32m     77\u001B[0m                          \u001B[38;5;124mf\u001B[39m\u001B[38;5;124m'\u001B[39m\u001B[38;5;124mbeen forced!\u001B[39m\u001B[38;5;124m'\u001B[39m)\n",
      "\u001B[1;31mAssertionError\u001B[0m: The value of \"path.QASPER\" cannot be changed after it has been accessed!"
     ]
    }
   ],
   "source": [
    "# configuration\n",
    "config.load_config_json_file(\"../path_config_local.json\", include_in_hash=False)"
   ]
  },
  {
   "cell_type": "code",
   "execution_count": 5,
   "metadata": {},
   "outputs": [
    {
     "ename": "JSONDecodeError",
     "evalue": "Extra data: line 2 column 1 (char 72983)",
     "output_type": "error",
     "traceback": [
      "\u001B[0;31m---------------------------------------------------------------------------\u001B[0m",
      "\u001B[0;31mJSONDecodeError\u001B[0m                           Traceback (most recent call last)",
      "Input \u001B[0;32mIn [5]\u001B[0m, in \u001B[0;36m<module>\u001B[0;34m\u001B[0m\n\u001B[1;32m     13\u001B[0m data \u001B[38;5;241m=\u001B[39m {}\n\u001B[1;32m     14\u001B[0m \u001B[38;5;28;01mwith\u001B[39;00m \u001B[38;5;28mopen\u001B[39m(train_path, \u001B[38;5;124m\"\u001B[39m\u001B[38;5;124mr\u001B[39m\u001B[38;5;124m\"\u001B[39m, encoding\u001B[38;5;241m=\u001B[39m\u001B[38;5;124m\"\u001B[39m\u001B[38;5;124mutf-8\u001B[39m\u001B[38;5;124m\"\u001B[39m) \u001B[38;5;28;01mas\u001B[39;00m file:\n\u001B[0;32m---> 15\u001B[0m     \u001B[38;5;28;01mfor\u001B[39;00m key, value \u001B[38;5;129;01min\u001B[39;00m \u001B[43mjson\u001B[49m\u001B[38;5;241;43m.\u001B[39;49m\u001B[43mload\u001B[49m\u001B[43m(\u001B[49m\u001B[43mfile\u001B[49m\u001B[43m)\u001B[49m\u001B[38;5;241m.\u001B[39mitems():\n\u001B[1;32m     16\u001B[0m         data[key] \u001B[38;5;241m=\u001B[39m value\n\u001B[1;32m     17\u001B[0m \u001B[38;5;28;01mwith\u001B[39;00m \u001B[38;5;28mopen\u001B[39m(dev_path, \u001B[38;5;124m\"\u001B[39m\u001B[38;5;124mr\u001B[39m\u001B[38;5;124m\"\u001B[39m, encoding\u001B[38;5;241m=\u001B[39m\u001B[38;5;124m\"\u001B[39m\u001B[38;5;124mutf-8\u001B[39m\u001B[38;5;124m\"\u001B[39m) \u001B[38;5;28;01mas\u001B[39;00m file:\n",
      "File \u001B[0;32m~/miniconda3/envs/relpos_graph/lib/python3.9/json/__init__.py:293\u001B[0m, in \u001B[0;36mload\u001B[0;34m(fp, cls, object_hook, parse_float, parse_int, parse_constant, object_pairs_hook, **kw)\u001B[0m\n\u001B[1;32m    274\u001B[0m \u001B[38;5;28;01mdef\u001B[39;00m \u001B[38;5;21mload\u001B[39m(fp, \u001B[38;5;241m*\u001B[39m, \u001B[38;5;28mcls\u001B[39m\u001B[38;5;241m=\u001B[39m\u001B[38;5;28;01mNone\u001B[39;00m, object_hook\u001B[38;5;241m=\u001B[39m\u001B[38;5;28;01mNone\u001B[39;00m, parse_float\u001B[38;5;241m=\u001B[39m\u001B[38;5;28;01mNone\u001B[39;00m,\n\u001B[1;32m    275\u001B[0m         parse_int\u001B[38;5;241m=\u001B[39m\u001B[38;5;28;01mNone\u001B[39;00m, parse_constant\u001B[38;5;241m=\u001B[39m\u001B[38;5;28;01mNone\u001B[39;00m, object_pairs_hook\u001B[38;5;241m=\u001B[39m\u001B[38;5;28;01mNone\u001B[39;00m, \u001B[38;5;241m*\u001B[39m\u001B[38;5;241m*\u001B[39mkw):\n\u001B[1;32m    276\u001B[0m     \u001B[38;5;124;03m\"\"\"Deserialize ``fp`` (a ``.read()``-supporting file-like object containing\u001B[39;00m\n\u001B[1;32m    277\u001B[0m \u001B[38;5;124;03m    a JSON document) to a Python object.\u001B[39;00m\n\u001B[1;32m    278\u001B[0m \n\u001B[0;32m   (...)\u001B[0m\n\u001B[1;32m    291\u001B[0m \u001B[38;5;124;03m    kwarg; otherwise ``JSONDecoder`` is used.\u001B[39;00m\n\u001B[1;32m    292\u001B[0m \u001B[38;5;124;03m    \"\"\"\u001B[39;00m\n\u001B[0;32m--> 293\u001B[0m     \u001B[38;5;28;01mreturn\u001B[39;00m \u001B[43mloads\u001B[49m\u001B[43m(\u001B[49m\u001B[43mfp\u001B[49m\u001B[38;5;241;43m.\u001B[39;49m\u001B[43mread\u001B[49m\u001B[43m(\u001B[49m\u001B[43m)\u001B[49m\u001B[43m,\u001B[49m\n\u001B[1;32m    294\u001B[0m \u001B[43m        \u001B[49m\u001B[38;5;28;43mcls\u001B[39;49m\u001B[38;5;241;43m=\u001B[39;49m\u001B[38;5;28;43mcls\u001B[39;49m\u001B[43m,\u001B[49m\u001B[43m \u001B[49m\u001B[43mobject_hook\u001B[49m\u001B[38;5;241;43m=\u001B[39;49m\u001B[43mobject_hook\u001B[49m\u001B[43m,\u001B[49m\n\u001B[1;32m    295\u001B[0m \u001B[43m        \u001B[49m\u001B[43mparse_float\u001B[49m\u001B[38;5;241;43m=\u001B[39;49m\u001B[43mparse_float\u001B[49m\u001B[43m,\u001B[49m\u001B[43m \u001B[49m\u001B[43mparse_int\u001B[49m\u001B[38;5;241;43m=\u001B[39;49m\u001B[43mparse_int\u001B[49m\u001B[43m,\u001B[49m\n\u001B[1;32m    296\u001B[0m \u001B[43m        \u001B[49m\u001B[43mparse_constant\u001B[49m\u001B[38;5;241;43m=\u001B[39;49m\u001B[43mparse_constant\u001B[49m\u001B[43m,\u001B[49m\u001B[43m \u001B[49m\u001B[43mobject_pairs_hook\u001B[49m\u001B[38;5;241;43m=\u001B[39;49m\u001B[43mobject_pairs_hook\u001B[49m\u001B[43m,\u001B[49m\u001B[43m \u001B[49m\u001B[38;5;241;43m*\u001B[39;49m\u001B[38;5;241;43m*\u001B[39;49m\u001B[43mkw\u001B[49m\u001B[43m)\u001B[49m\n",
      "File \u001B[0;32m~/miniconda3/envs/relpos_graph/lib/python3.9/json/__init__.py:346\u001B[0m, in \u001B[0;36mloads\u001B[0;34m(s, cls, object_hook, parse_float, parse_int, parse_constant, object_pairs_hook, **kw)\u001B[0m\n\u001B[1;32m    341\u001B[0m     s \u001B[38;5;241m=\u001B[39m s\u001B[38;5;241m.\u001B[39mdecode(detect_encoding(s), \u001B[38;5;124m'\u001B[39m\u001B[38;5;124msurrogatepass\u001B[39m\u001B[38;5;124m'\u001B[39m)\n\u001B[1;32m    343\u001B[0m \u001B[38;5;28;01mif\u001B[39;00m (\u001B[38;5;28mcls\u001B[39m \u001B[38;5;129;01mis\u001B[39;00m \u001B[38;5;28;01mNone\u001B[39;00m \u001B[38;5;129;01mand\u001B[39;00m object_hook \u001B[38;5;129;01mis\u001B[39;00m \u001B[38;5;28;01mNone\u001B[39;00m \u001B[38;5;129;01mand\u001B[39;00m\n\u001B[1;32m    344\u001B[0m         parse_int \u001B[38;5;129;01mis\u001B[39;00m \u001B[38;5;28;01mNone\u001B[39;00m \u001B[38;5;129;01mand\u001B[39;00m parse_float \u001B[38;5;129;01mis\u001B[39;00m \u001B[38;5;28;01mNone\u001B[39;00m \u001B[38;5;129;01mand\u001B[39;00m\n\u001B[1;32m    345\u001B[0m         parse_constant \u001B[38;5;129;01mis\u001B[39;00m \u001B[38;5;28;01mNone\u001B[39;00m \u001B[38;5;129;01mand\u001B[39;00m object_pairs_hook \u001B[38;5;129;01mis\u001B[39;00m \u001B[38;5;28;01mNone\u001B[39;00m \u001B[38;5;129;01mand\u001B[39;00m \u001B[38;5;129;01mnot\u001B[39;00m kw):\n\u001B[0;32m--> 346\u001B[0m     \u001B[38;5;28;01mreturn\u001B[39;00m \u001B[43m_default_decoder\u001B[49m\u001B[38;5;241;43m.\u001B[39;49m\u001B[43mdecode\u001B[49m\u001B[43m(\u001B[49m\u001B[43ms\u001B[49m\u001B[43m)\u001B[49m\n\u001B[1;32m    347\u001B[0m \u001B[38;5;28;01mif\u001B[39;00m \u001B[38;5;28mcls\u001B[39m \u001B[38;5;129;01mis\u001B[39;00m \u001B[38;5;28;01mNone\u001B[39;00m:\n\u001B[1;32m    348\u001B[0m     \u001B[38;5;28mcls\u001B[39m \u001B[38;5;241m=\u001B[39m JSONDecoder\n",
      "File \u001B[0;32m~/miniconda3/envs/relpos_graph/lib/python3.9/json/decoder.py:340\u001B[0m, in \u001B[0;36mJSONDecoder.decode\u001B[0;34m(self, s, _w)\u001B[0m\n\u001B[1;32m    338\u001B[0m end \u001B[38;5;241m=\u001B[39m _w(s, end)\u001B[38;5;241m.\u001B[39mend()\n\u001B[1;32m    339\u001B[0m \u001B[38;5;28;01mif\u001B[39;00m end \u001B[38;5;241m!=\u001B[39m \u001B[38;5;28mlen\u001B[39m(s):\n\u001B[0;32m--> 340\u001B[0m     \u001B[38;5;28;01mraise\u001B[39;00m JSONDecodeError(\u001B[38;5;124m\"\u001B[39m\u001B[38;5;124mExtra data\u001B[39m\u001B[38;5;124m\"\u001B[39m, s, end)\n\u001B[1;32m    341\u001B[0m \u001B[38;5;28;01mreturn\u001B[39;00m obj\n",
      "\u001B[0;31mJSONDecodeError\u001B[0m: Extra data: line 2 column 1 (char 72983)"
     ]
    }
   ],
   "source": [
    "# load the dataset\n",
    "train_path = os.path.join(config.get(\"path.QASPER\"), \"qasper-train-v0.3.json\")\n",
    "dev_path = os.path.join(config.get(\"path.QASPER\"), \"qasper-dev-v0.3.json\")\n",
    "test_path = os.path.join(config.get(\"path.QASPER\"), \"qasper-test-v0.3.json\")\n",
    "\n",
    "data = {}\n",
    "with open(train_path, \"r\", encoding=\"utf-8\") as file:\n",
    "    for key, value in json.load(file).items():\n",
    "        data[key] = value\n",
    "with open(dev_path, \"r\", encoding=\"utf-8\") as file:\n",
    "    for key, value in json.load(file).items():\n",
    "        data[key] = value\n",
    "with open(test_path, \"r\", encoding=\"utf-8\") as file:\n",
    "    for key, value in json.load(file).items():\n",
    "        data[key] = value\n",
    "\n",
    "print(f\"Gathered {len(data)} instances.\")"
   ]
  },
  {
   "cell_type": "markdown",
   "metadata": {},
   "source": [
    "## JSON Data Schema"
   ]
  },
  {
   "cell_type": "code",
   "execution_count": 10,
   "outputs": [
    {
     "name": "stdout",
     "output_type": "stream",
     "text": [
      "['1909.00694', '2003.07723', '1705.09665', '1908.06606', '1811.00942', '1805.02400', '1907.05664', '1910.14497', '1912.02481', '1810.04528']\n"
     ]
    }
   ],
   "source": [
    "print(list(data.keys())[:10])"
   ],
   "metadata": {
    "collapsed": false
   }
  },
  {
   "cell_type": "code",
   "execution_count": 11,
   "metadata": {},
   "outputs": [
    {
     "name": "stdout",
     "output_type": "stream",
     "text": [
      "  1/1x [\n",
      "      1585/1585x {\n",
      "        'title': 1585/1585x non-empty string\n",
      "        'qas': \n",
      "          1585/1585x [\n",
      "              5049/5049x {\n",
      "                'paper_read': (1): 3725/5049x non-empty string || (2): 1324/5049x empty string\n",
      "                'answers': \n",
      "                  5049/5049x [\n",
      "                      7993/7993x {\n",
      "                        'answer': \n",
      "                          7993/7993x {\n",
      "                            'extractive_spans': 7993/7993x [8174/8174x non-empty string]\n",
      "                            'unanswerable': 7993/7993x number\n",
      "                            'yes_no': (1): 6883/7993x null || (2): 1110/7993x number\n",
      "                            'free_form_answer': (1): 1931/7993x non-empty string || (2): 6062/7993x empty string\n",
      "                            'highlighted_evidence': 7993/7993x [10706/10706x non-empty string]\n",
      "                            'evidence': 7993/7993x [12761/12761x non-empty string]\n",
      "                          }\n",
      "                        'annotation_id': 7993/7993x non-empty string\n",
      "                        'worker_id': 7993/7993x non-empty string\n",
      "                      }\n",
      "                  ]\n",
      "                'question_id': 5049/5049x non-empty string\n",
      "                'question': 5049/5049x non-empty string\n",
      "                'question_writer': 5049/5049x non-empty string\n",
      "                'topic_background': (1): 3725/5049x non-empty string || (2): 1324/5049x empty string\n",
      "                'search_query': (1): 3498/5049x empty string || (2): 1551/5049x non-empty string\n",
      "                'nlp_background': (1): 3876/5049x non-empty string || (2): 1173/5049x empty string\n",
      "              }\n",
      "          ]\n",
      "        'full_text': \n",
      "          1585/1585x [\n",
      "              21909/21909x {\n",
      "                'paragraphs': \n",
      "                  21909/21909x [\n",
      "(1): 80112/81502x non-empty string || (2): 1390/81502x empty string\n",
      "                  ]\n",
      "                'section_name': (1): 21889/21909x non-empty string || (2): 8/21909x empty string || (3): 12/21909x null\n",
      "              }\n",
      "          ]\n",
      "        'abstract': 1585/1585x non-empty string\n",
      "        'figures_and_tables': \n",
      "          1585/1585x [\n",
      "              11364/11364x {\n",
      "                'file': 11364/11364x non-empty string\n",
      "                'caption': 11364/11364x non-empty string\n",
      "              }\n",
      "          ]\n",
      "      }\n",
      "  ]\n",
      "\n"
     ]
    }
   ],
   "source": [
    "print(parse_json_object(list(data.values())))"
   ]
  }
 ],
 "metadata": {
  "kernelspec": {
   "display_name": "Python 3 (ipykernel)",
   "language": "python",
   "name": "python3"
  },
  "language_info": {
   "codemirror_mode": {
    "name": "ipython",
    "version": 3
   },
   "file_extension": ".py",
   "mimetype": "text/x-python",
   "name": "python",
   "nbconvert_exporter": "python",
   "pygments_lexer": "ipython3",
   "version": "3.9.7"
  }
 },
 "nbformat": 4,
 "nbformat_minor": 1
}
