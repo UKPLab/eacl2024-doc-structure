{
 "cells": [
  {
   "cell_type": "code",
   "execution_count": 1,
   "metadata": {},
   "outputs": [],
   "source": [
    "import collections\n",
    "import os\n",
    "from io import StringIO\n",
    "\n",
    "import pandas as pd\n",
    "from intertext_graph.itgraph import IntertextDocument, Etype\n",
    "\n",
    "import config\n",
    "\n",
    "from histogram import histogram\n",
    "from metadata_analyzer import parse_json_object\n",
    "\n",
    "def mean(l):\n",
    "    return sum(l) / len(l)"
   ]
  },
  {
   "cell_type": "markdown",
   "metadata": {},
   "source": [
    "# ITG Dataset Exploration"
   ]
  },
  {
   "cell_type": "markdown",
   "source": [],
   "metadata": {
    "collapsed": false
   }
  },
  {
   "cell_type": "code",
   "execution_count": 2,
   "metadata": {},
   "outputs": [],
   "source": [
    "# configuration\n",
    "config.load_config_json_file(\"path_config_local.json\", include_in_hash=False)"
   ]
  },
  {
   "cell_type": "code",
   "execution_count": 3,
   "metadata": {},
   "outputs": [
    {
     "name": "stdout",
     "output_type": "stream",
     "text": [
      "Loaded 1585 documents.\n"
     ]
    }
   ],
   "source": [
    "# load the dataset\n",
    "documents = []\n",
    "path = os.path.join(config.get(\"path.QASPER-ITG\"), \"shallow-train.jsonl\")\n",
    "with open(path, \"r\", encoding=\"utf-8\") as file:\n",
    "    for document_json_str in file:\n",
    "        with StringIO(document_json_str) as f:\n",
    "            document = IntertextDocument.load_json(f)\n",
    "            documents.append(document)\n",
    "path = os.path.join(config.get(\"path.QASPER-ITG\"), \"shallow-dev.jsonl\")\n",
    "with open(path, \"r\", encoding=\"utf-8\") as file:\n",
    "    for document_json_str in file:\n",
    "        with StringIO(document_json_str) as f:\n",
    "            document = IntertextDocument.load_json(f)\n",
    "            documents.append(document)\n",
    "path = os.path.join(config.get(\"path.QASPER-ITG\"), \"shallow-test.jsonl\")\n",
    "with open(path, \"r\", encoding=\"utf-8\") as file:\n",
    "    for document_json_str in file:\n",
    "        with StringIO(document_json_str) as f:\n",
    "            document = IntertextDocument.load_json(f)\n",
    "            documents.append(document)\n",
    "\n",
    "print(f\"Loaded {len(documents)} documents.\")"
   ]
  },
  {
   "cell_type": "code",
   "execution_count": 4,
   "outputs": [],
   "source": [
    "if False:  # filter for GovReport FastFact documents\n",
    "    new_documents = []\n",
    "    for document in documents:\n",
    "        if \"fastfact\" in document.meta.keys() and document.meta[\"fastfact\"] != []:\n",
    "            new_documents.append(document)\n",
    "    documents = new_documents\n",
    "    print(f\"Filtered to {len(documents)} FastFact Documents\")"
   ],
   "metadata": {
    "collapsed": false
   }
  },
  {
   "cell_type": "markdown",
   "metadata": {},
   "source": [
    "## Document Statistics"
   ]
  },
  {
   "cell_type": "code",
   "execution_count": 5,
   "metadata": {},
   "outputs": [
    {
     "name": "stdout",
     "output_type": "stream",
     "text": [
      "Number of documents: 1585\n"
     ]
    }
   ],
   "source": [
    "print(f\"Number of documents: {len(documents)}\")"
   ]
  },
  {
   "cell_type": "markdown",
   "metadata": {},
   "source": [
    "## Node Statistics"
   ]
  },
  {
   "cell_type": "code",
   "execution_count": 6,
   "metadata": {},
   "outputs": [
    {
     "name": "stdout",
     "output_type": "stream",
     "text": [
      "Total number of nodes: 121115\n"
     ]
    }
   ],
   "source": [
    "print(f\"Total number of nodes: {sum(len(document.nodes) for document in documents)}\")"
   ]
  },
  {
   "cell_type": "code",
   "execution_count": 7,
   "metadata": {},
   "outputs": [
    {
     "name": "stdout",
     "output_type": "stream",
     "text": [
      "Node types:\n",
      "- 'title'\n",
      "- 'abstract'\n",
      "- 'figures-and-tables-section'\n",
      "- 'figure-or-table'\n",
      "- 'article-title'\n",
      "- 'p'\n"
     ]
    }
   ],
   "source": [
    "node_types = list(set(node.ntype for document in documents for node in document.nodes))\n",
    "node_types_and_total = node_types + [\"total\"]\n",
    "print(\"Node types:\")\n",
    "for node_type in node_types:\n",
    "    print(f\"- '{node_type}'\")"
   ]
  },
  {
   "cell_type": "markdown",
   "metadata": {},
   "source": [
    "### Number of nodes per document by type"
   ]
  },
  {
   "cell_type": "code",
   "execution_count": 8,
   "metadata": {},
   "outputs": [
    {
     "data": {
      "text/plain": "                              min        avg  max   total  fraction\n'title'                         0  13.822713   49   21909  0.180894\n'abstract'                      1   1.000000    1    1585  0.013087\n'figures-and-tables-section'    1   1.000000    1    1585  0.013087\n'figure-or-table'               0   7.169716   78   11364  0.093828\n'article-title'                 1   1.000000    1    1585  0.013087\n'p'                             1  52.420820  645   83087  0.686017\ntotal                           4  76.413249  664  121115  1.000000",
      "text/html": "<div>\n<style scoped>\n    .dataframe tbody tr th:only-of-type {\n        vertical-align: middle;\n    }\n\n    .dataframe tbody tr th {\n        vertical-align: top;\n    }\n\n    .dataframe thead th {\n        text-align: right;\n    }\n</style>\n<table border=\"1\" class=\"dataframe\">\n  <thead>\n    <tr style=\"text-align: right;\">\n      <th></th>\n      <th>min</th>\n      <th>avg</th>\n      <th>max</th>\n      <th>total</th>\n      <th>fraction</th>\n    </tr>\n  </thead>\n  <tbody>\n    <tr>\n      <th>'title'</th>\n      <td>0</td>\n      <td>13.822713</td>\n      <td>49</td>\n      <td>21909</td>\n      <td>0.180894</td>\n    </tr>\n    <tr>\n      <th>'abstract'</th>\n      <td>1</td>\n      <td>1.000000</td>\n      <td>1</td>\n      <td>1585</td>\n      <td>0.013087</td>\n    </tr>\n    <tr>\n      <th>'figures-and-tables-section'</th>\n      <td>1</td>\n      <td>1.000000</td>\n      <td>1</td>\n      <td>1585</td>\n      <td>0.013087</td>\n    </tr>\n    <tr>\n      <th>'figure-or-table'</th>\n      <td>0</td>\n      <td>7.169716</td>\n      <td>78</td>\n      <td>11364</td>\n      <td>0.093828</td>\n    </tr>\n    <tr>\n      <th>'article-title'</th>\n      <td>1</td>\n      <td>1.000000</td>\n      <td>1</td>\n      <td>1585</td>\n      <td>0.013087</td>\n    </tr>\n    <tr>\n      <th>'p'</th>\n      <td>1</td>\n      <td>52.420820</td>\n      <td>645</td>\n      <td>83087</td>\n      <td>0.686017</td>\n    </tr>\n    <tr>\n      <th>total</th>\n      <td>4</td>\n      <td>76.413249</td>\n      <td>664</td>\n      <td>121115</td>\n      <td>1.000000</td>\n    </tr>\n  </tbody>\n</table>\n</div>"
     },
     "execution_count": 8,
     "metadata": {},
     "output_type": "execute_result"
    }
   ],
   "source": [
    "by_type = collections.defaultdict()\n",
    "for node_type in node_types:\n",
    "    by_type[node_type] = [len([node for node in document.nodes if node.ntype == node_type]) for document in documents]\n",
    "by_type[\"total\"] = [len([node for node in document.nodes]) for document in documents]\n",
    "\n",
    "pd.DataFrame(\n",
    "    index=[f\"'{node_type}'\" for node_type in node_types] + [\"total\"],\n",
    "    data={\n",
    "        \"min\": [min(by_type[node_type]) for node_type in node_types_and_total],\n",
    "        \"avg\": [mean(by_type[node_type]) for node_type in node_types_and_total],\n",
    "        \"max\": [max(by_type[node_type]) for node_type in node_types_and_total],\n",
    "        \"total\": [sum(by_type[node_type]) for node_type in node_types_and_total],\n",
    "        \"fraction\": [sum(by_type[node_type]) / sum(by_type[\"total\"]) for node_type in node_types_and_total]\n",
    "    }\n",
    ")"
   ]
  },
  {
   "cell_type": "markdown",
   "source": [
    "### Histogram: Number of nodes per document for given type"
   ],
   "metadata": {
    "collapsed": false
   }
  },
  {
   "cell_type": "code",
   "execution_count": 9,
   "outputs": [
    {
     "data": {
      "text/plain": "       num\n0-4      1\n5-9    272\n10-14  598\n15-19  440\n20-24  164\n25-29   61\n30-34   23\n35-39   18\n40-44    2\n45-49    5\n50-54    1\n≥55      0",
      "text/html": "<div>\n<style scoped>\n    .dataframe tbody tr th:only-of-type {\n        vertical-align: middle;\n    }\n\n    .dataframe tbody tr th {\n        vertical-align: top;\n    }\n\n    .dataframe thead th {\n        text-align: right;\n    }\n</style>\n<table border=\"1\" class=\"dataframe\">\n  <thead>\n    <tr style=\"text-align: right;\">\n      <th></th>\n      <th>num</th>\n    </tr>\n  </thead>\n  <tbody>\n    <tr>\n      <th>0-4</th>\n      <td>1</td>\n    </tr>\n    <tr>\n      <th>5-9</th>\n      <td>272</td>\n    </tr>\n    <tr>\n      <th>10-14</th>\n      <td>598</td>\n    </tr>\n    <tr>\n      <th>15-19</th>\n      <td>440</td>\n    </tr>\n    <tr>\n      <th>20-24</th>\n      <td>164</td>\n    </tr>\n    <tr>\n      <th>25-29</th>\n      <td>61</td>\n    </tr>\n    <tr>\n      <th>30-34</th>\n      <td>23</td>\n    </tr>\n    <tr>\n      <th>35-39</th>\n      <td>18</td>\n    </tr>\n    <tr>\n      <th>40-44</th>\n      <td>2</td>\n    </tr>\n    <tr>\n      <th>45-49</th>\n      <td>5</td>\n    </tr>\n    <tr>\n      <th>50-54</th>\n      <td>1</td>\n    </tr>\n    <tr>\n      <th>≥55</th>\n      <td>0</td>\n    </tr>\n  </tbody>\n</table>\n</div>"
     },
     "execution_count": 9,
     "metadata": {},
     "output_type": "execute_result"
    }
   ],
   "source": [
    "include_node_types = [\"title\", \"abstract\"]\n",
    "\n",
    "by_type = [len([node for node in document.nodes if node.ntype in include_node_types]) for document in documents]\n",
    "values = dict(collections.Counter(by_type))\n",
    "\n",
    "histogram(values, 55, 5)"
   ],
   "metadata": {
    "collapsed": false
   }
  },
  {
   "cell_type": "code",
   "execution_count": 10,
   "outputs": [
    {
     "data": {
      "text/plain": "         num\n0-9       14\n10-19     84\n20-29    239\n30-39    266\n40-49    276\n50-59    247\n60-69    171\n70-79    126\n80-89     52\n90-99     25\n100-109   16\n≥110      69",
      "text/html": "<div>\n<style scoped>\n    .dataframe tbody tr th:only-of-type {\n        vertical-align: middle;\n    }\n\n    .dataframe tbody tr th {\n        vertical-align: top;\n    }\n\n    .dataframe thead th {\n        text-align: right;\n    }\n</style>\n<table border=\"1\" class=\"dataframe\">\n  <thead>\n    <tr style=\"text-align: right;\">\n      <th></th>\n      <th>num</th>\n    </tr>\n  </thead>\n  <tbody>\n    <tr>\n      <th>0-9</th>\n      <td>14</td>\n    </tr>\n    <tr>\n      <th>10-19</th>\n      <td>84</td>\n    </tr>\n    <tr>\n      <th>20-29</th>\n      <td>239</td>\n    </tr>\n    <tr>\n      <th>30-39</th>\n      <td>266</td>\n    </tr>\n    <tr>\n      <th>40-49</th>\n      <td>276</td>\n    </tr>\n    <tr>\n      <th>50-59</th>\n      <td>247</td>\n    </tr>\n    <tr>\n      <th>60-69</th>\n      <td>171</td>\n    </tr>\n    <tr>\n      <th>70-79</th>\n      <td>126</td>\n    </tr>\n    <tr>\n      <th>80-89</th>\n      <td>52</td>\n    </tr>\n    <tr>\n      <th>90-99</th>\n      <td>25</td>\n    </tr>\n    <tr>\n      <th>100-109</th>\n      <td>16</td>\n    </tr>\n    <tr>\n      <th>≥110</th>\n      <td>69</td>\n    </tr>\n  </tbody>\n</table>\n</div>"
     },
     "execution_count": 10,
     "metadata": {},
     "output_type": "execute_result"
    }
   ],
   "source": [
    "include_node_types = [\"p\"]\n",
    "\n",
    "by_type = [len([node for node in document.nodes if node.ntype in include_node_types]) for document in documents]\n",
    "values = dict(collections.Counter(by_type))\n",
    "\n",
    "histogram(values, 110, 10)"
   ],
   "metadata": {
    "collapsed": false
   }
  },
  {
   "cell_type": "markdown",
   "metadata": {},
   "source": [
    "### Number of nodes at depth by type"
   ]
  },
  {
   "cell_type": "code",
   "execution_count": 11,
   "metadata": {},
   "outputs": [
    {
     "data": {
      "text/plain": "                                 1      2      3   total\n'title'                          0  21909      0   21909\n'abstract'                       0   1585      0    1585\n'figures-and-tables-section'     0   1585      0    1585\n'figure-or-table'                0      0  11364   11364\n'article-title'               1585      0      0    1585\n'p'                              0      0  83087   83087\ntotal                         1585  25079  94451  121115",
      "text/html": "<div>\n<style scoped>\n    .dataframe tbody tr th:only-of-type {\n        vertical-align: middle;\n    }\n\n    .dataframe tbody tr th {\n        vertical-align: top;\n    }\n\n    .dataframe thead th {\n        text-align: right;\n    }\n</style>\n<table border=\"1\" class=\"dataframe\">\n  <thead>\n    <tr style=\"text-align: right;\">\n      <th></th>\n      <th>1</th>\n      <th>2</th>\n      <th>3</th>\n      <th>total</th>\n    </tr>\n  </thead>\n  <tbody>\n    <tr>\n      <th>'title'</th>\n      <td>0</td>\n      <td>21909</td>\n      <td>0</td>\n      <td>21909</td>\n    </tr>\n    <tr>\n      <th>'abstract'</th>\n      <td>0</td>\n      <td>1585</td>\n      <td>0</td>\n      <td>1585</td>\n    </tr>\n    <tr>\n      <th>'figures-and-tables-section'</th>\n      <td>0</td>\n      <td>1585</td>\n      <td>0</td>\n      <td>1585</td>\n    </tr>\n    <tr>\n      <th>'figure-or-table'</th>\n      <td>0</td>\n      <td>0</td>\n      <td>11364</td>\n      <td>11364</td>\n    </tr>\n    <tr>\n      <th>'article-title'</th>\n      <td>1585</td>\n      <td>0</td>\n      <td>0</td>\n      <td>1585</td>\n    </tr>\n    <tr>\n      <th>'p'</th>\n      <td>0</td>\n      <td>0</td>\n      <td>83087</td>\n      <td>83087</td>\n    </tr>\n    <tr>\n      <th>total</th>\n      <td>1585</td>\n      <td>25079</td>\n      <td>94451</td>\n      <td>121115</td>\n    </tr>\n  </tbody>\n</table>\n</div>"
     },
     "execution_count": 11,
     "metadata": {},
     "output_type": "execute_result"
    }
   ],
   "source": [
    "at_depth = collections.defaultdict(collections.Counter)\n",
    "for document in documents:\n",
    "    for node in document.nodes:\n",
    "        at_depth[len(list(document.breadcrumbs(node, Etype.PARENT)))][node.ntype] += 1\n",
    "        at_depth[len(list(document.breadcrumbs(node, Etype.PARENT)))][\"total\"] += 1\n",
    "        at_depth[\"total\"][node.ntype] += 1\n",
    "        at_depth[\"total\"][\"total\"] += 1\n",
    "\n",
    "pd.DataFrame(\n",
    "    index=[f\"'{node_type}'\" for node_type in node_types] + [\"total\"],\n",
    "    columns=[depth for depth in at_depth.keys() if isinstance(depth, int)] + [\"total\"],\n",
    "    data={depth: [values[node_type] for node_type in node_types_and_total] for depth, values in at_depth.items()}\n",
    ")"
   ]
  },
  {
   "cell_type": "markdown",
   "metadata": {},
   "source": [
    "## Text Statistics"
   ]
  },
  {
   "cell_type": "code",
   "execution_count": 12,
   "metadata": {},
   "outputs": [
    {
     "name": "stdout",
     "output_type": "stream",
     "text": [
      "Total number of characters: 40848547\n",
      "Total number of whitespace-separated tokens: 6270686\n"
     ]
    }
   ],
   "source": [
    "print(f\"Total number of characters: {sum(sum(len(node.content) for node in document.nodes) for document in documents)}\")\n",
    "print(f\"Total number of whitespace-separated tokens: {sum(sum(len(node.content.split()) for node in document.nodes) for document in documents)}\")"
   ]
  },
  {
   "cell_type": "markdown",
   "source": [
    "### Number of characters and whitespace-separated tokens per document"
   ],
   "metadata": {
    "collapsed": false
   }
  },
  {
   "cell_type": "code",
   "execution_count": 13,
   "outputs": [
    {
     "name": "stdout",
     "output_type": "stream",
     "text": [
      "Number of documents with more than 16000 whitespace-separated tokens: 6\n"
     ]
    },
    {
     "data": {
      "text/plain": "                                             min           avg     max  \\\n# characters per document                   1093  25813.711601  179912   \n# whitespace-separated tokens per document   161   4019.865836   27811   \n\n                                               total  \n# characters per document                   45313654  \n# whitespace-separated tokens per document  45313654  ",
      "text/html": "<div>\n<style scoped>\n    .dataframe tbody tr th:only-of-type {\n        vertical-align: middle;\n    }\n\n    .dataframe tbody tr th {\n        vertical-align: top;\n    }\n\n    .dataframe thead th {\n        text-align: right;\n    }\n</style>\n<table border=\"1\" class=\"dataframe\">\n  <thead>\n    <tr style=\"text-align: right;\">\n      <th></th>\n      <th>min</th>\n      <th>avg</th>\n      <th>max</th>\n      <th>total</th>\n    </tr>\n  </thead>\n  <tbody>\n    <tr>\n      <th># characters per document</th>\n      <td>1093</td>\n      <td>25813.711601</td>\n      <td>179912</td>\n      <td>45313654</td>\n    </tr>\n    <tr>\n      <th># whitespace-separated tokens per document</th>\n      <td>161</td>\n      <td>4019.865836</td>\n      <td>27811</td>\n      <td>45313654</td>\n    </tr>\n  </tbody>\n</table>\n</div>"
     },
     "execution_count": 13,
     "metadata": {},
     "output_type": "execute_result"
    }
   ],
   "source": [
    "character_nums = collections.Counter([sum(len(node.content) for node in document.nodes) for document in documents])\n",
    "token_nums = collections.Counter([sum(len(node.content.split()) for node in document.nodes) for document in documents])\n",
    "\n",
    "N = 16000\n",
    "print(f\"Number of documents with more than {N} whitespace-separated tokens: {sum(y for x, y in token_nums.items() if x > N)}\")\n",
    "\n",
    "pd.DataFrame(\n",
    "    index=[\"# characters per document\", \"# whitespace-separated tokens per document\"],\n",
    "    data={\n",
    "        \"min\": [min(character_nums), min(token_nums)],\n",
    "        \"avg\": [mean(character_nums), mean(token_nums)],\n",
    "        \"max\": [max(character_nums), max(token_nums)],\n",
    "        \"total\": [sum(character_nums, sum(token_nums))]\n",
    "    }\n",
    ")"
   ],
   "metadata": {
    "collapsed": false
   }
  },
  {
   "cell_type": "markdown",
   "source": [
    "### Histogram: Number of whitespace-separated tokens per document"
   ],
   "metadata": {
    "collapsed": false
   }
  },
  {
   "cell_type": "code",
   "execution_count": 14,
   "outputs": [
    {
     "data": {
      "text/plain": "             num\n0-999         17\n1000-1999    138\n2000-2999    389\n3000-3999    344\n4000-4999    403\n5000-5999    152\n6000-6999     56\n7000-7999     31\n8000-8999     14\n9000-9999     12\n10000-10999   10\n≥11000        19",
      "text/html": "<div>\n<style scoped>\n    .dataframe tbody tr th:only-of-type {\n        vertical-align: middle;\n    }\n\n    .dataframe tbody tr th {\n        vertical-align: top;\n    }\n\n    .dataframe thead th {\n        text-align: right;\n    }\n</style>\n<table border=\"1\" class=\"dataframe\">\n  <thead>\n    <tr style=\"text-align: right;\">\n      <th></th>\n      <th>num</th>\n    </tr>\n  </thead>\n  <tbody>\n    <tr>\n      <th>0-999</th>\n      <td>17</td>\n    </tr>\n    <tr>\n      <th>1000-1999</th>\n      <td>138</td>\n    </tr>\n    <tr>\n      <th>2000-2999</th>\n      <td>389</td>\n    </tr>\n    <tr>\n      <th>3000-3999</th>\n      <td>344</td>\n    </tr>\n    <tr>\n      <th>4000-4999</th>\n      <td>403</td>\n    </tr>\n    <tr>\n      <th>5000-5999</th>\n      <td>152</td>\n    </tr>\n    <tr>\n      <th>6000-6999</th>\n      <td>56</td>\n    </tr>\n    <tr>\n      <th>7000-7999</th>\n      <td>31</td>\n    </tr>\n    <tr>\n      <th>8000-8999</th>\n      <td>14</td>\n    </tr>\n    <tr>\n      <th>9000-9999</th>\n      <td>12</td>\n    </tr>\n    <tr>\n      <th>10000-10999</th>\n      <td>10</td>\n    </tr>\n    <tr>\n      <th>≥11000</th>\n      <td>19</td>\n    </tr>\n  </tbody>\n</table>\n</div>"
     },
     "execution_count": 14,
     "metadata": {},
     "output_type": "execute_result"
    }
   ],
   "source": [
    "token_nums = collections.Counter([sum(len(node.content.split()) for node in document.nodes) for document in documents])\n",
    "values = dict(collections.Counter(token_nums))\n",
    "\n",
    "histogram(values, 11000, 1000)"
   ],
   "metadata": {
    "collapsed": false
   }
  },
  {
   "cell_type": "markdown",
   "source": [
    "### Number of characters per node by node type"
   ],
   "metadata": {
    "collapsed": false
   }
  },
  {
   "cell_type": "code",
   "execution_count": 15,
   "metadata": {},
   "outputs": [
    {
     "data": {
      "text/plain": "                              min         avg    max     total\n'title'                         0   30.019353    197    657694\n'abstract'                      8    8.000000      8     12680\n'figures-and-tables-section'   18   18.000000     18     28530\n'figure-or-table'               6  156.950634   1623   1783587\n'article-title'                12   71.613880    156    113508\n'p'                             0  460.391493  18951  38252548\ntotal                           0  337.270751  18951  40848547",
      "text/html": "<div>\n<style scoped>\n    .dataframe tbody tr th:only-of-type {\n        vertical-align: middle;\n    }\n\n    .dataframe tbody tr th {\n        vertical-align: top;\n    }\n\n    .dataframe thead th {\n        text-align: right;\n    }\n</style>\n<table border=\"1\" class=\"dataframe\">\n  <thead>\n    <tr style=\"text-align: right;\">\n      <th></th>\n      <th>min</th>\n      <th>avg</th>\n      <th>max</th>\n      <th>total</th>\n    </tr>\n  </thead>\n  <tbody>\n    <tr>\n      <th>'title'</th>\n      <td>0</td>\n      <td>30.019353</td>\n      <td>197</td>\n      <td>657694</td>\n    </tr>\n    <tr>\n      <th>'abstract'</th>\n      <td>8</td>\n      <td>8.000000</td>\n      <td>8</td>\n      <td>12680</td>\n    </tr>\n    <tr>\n      <th>'figures-and-tables-section'</th>\n      <td>18</td>\n      <td>18.000000</td>\n      <td>18</td>\n      <td>28530</td>\n    </tr>\n    <tr>\n      <th>'figure-or-table'</th>\n      <td>6</td>\n      <td>156.950634</td>\n      <td>1623</td>\n      <td>1783587</td>\n    </tr>\n    <tr>\n      <th>'article-title'</th>\n      <td>12</td>\n      <td>71.613880</td>\n      <td>156</td>\n      <td>113508</td>\n    </tr>\n    <tr>\n      <th>'p'</th>\n      <td>0</td>\n      <td>460.391493</td>\n      <td>18951</td>\n      <td>38252548</td>\n    </tr>\n    <tr>\n      <th>total</th>\n      <td>0</td>\n      <td>337.270751</td>\n      <td>18951</td>\n      <td>40848547</td>\n    </tr>\n  </tbody>\n</table>\n</div>"
     },
     "execution_count": 15,
     "metadata": {},
     "output_type": "execute_result"
    }
   ],
   "source": [
    "by_type = collections.defaultdict()\n",
    "for node_type in node_types:\n",
    "    by_type[node_type] = [len(node.content) for document in documents for node in document.nodes if node.ntype == node_type]\n",
    "by_type[\"total\"] = [len(node.content) for document in documents for node in document.nodes]\n",
    "\n",
    "pd.DataFrame(\n",
    "    index=[f\"'{node_type}'\" for node_type in node_types] + [\"total\"],\n",
    "    data={\n",
    "        \"min\": [min(by_type[node_type]) for node_type in node_types_and_total],\n",
    "        \"avg\": [mean(by_type[node_type]) for node_type in node_types_and_total],\n",
    "        \"max\": [max(by_type[node_type]) for node_type in node_types_and_total],\n",
    "        \"total\": [sum(by_type[node_type]) for node_type in node_types_and_total]\n",
    "    }\n",
    ")"
   ]
  },
  {
   "cell_type": "markdown",
   "metadata": {},
   "source": [
    "### Number of whitespace-separated tokens per node by node type"
   ]
  },
  {
   "cell_type": "code",
   "execution_count": 16,
   "metadata": {},
   "outputs": [
    {
     "data": {
      "text/plain": "                              min        avg   max    total\n'title'                         0   3.821124    33    83717\n'abstract'                      1   1.000000     1     1585\n'figures-and-tables-section'    3   3.000000     3     4755\n'figure-or-table'               2  24.631380   270   279911\n'article-title'                 1   9.076972    26    14387\n'p'                             0  70.845391  3624  5886331\ntotal                           0  51.774644  3624  6270686",
      "text/html": "<div>\n<style scoped>\n    .dataframe tbody tr th:only-of-type {\n        vertical-align: middle;\n    }\n\n    .dataframe tbody tr th {\n        vertical-align: top;\n    }\n\n    .dataframe thead th {\n        text-align: right;\n    }\n</style>\n<table border=\"1\" class=\"dataframe\">\n  <thead>\n    <tr style=\"text-align: right;\">\n      <th></th>\n      <th>min</th>\n      <th>avg</th>\n      <th>max</th>\n      <th>total</th>\n    </tr>\n  </thead>\n  <tbody>\n    <tr>\n      <th>'title'</th>\n      <td>0</td>\n      <td>3.821124</td>\n      <td>33</td>\n      <td>83717</td>\n    </tr>\n    <tr>\n      <th>'abstract'</th>\n      <td>1</td>\n      <td>1.000000</td>\n      <td>1</td>\n      <td>1585</td>\n    </tr>\n    <tr>\n      <th>'figures-and-tables-section'</th>\n      <td>3</td>\n      <td>3.000000</td>\n      <td>3</td>\n      <td>4755</td>\n    </tr>\n    <tr>\n      <th>'figure-or-table'</th>\n      <td>2</td>\n      <td>24.631380</td>\n      <td>270</td>\n      <td>279911</td>\n    </tr>\n    <tr>\n      <th>'article-title'</th>\n      <td>1</td>\n      <td>9.076972</td>\n      <td>26</td>\n      <td>14387</td>\n    </tr>\n    <tr>\n      <th>'p'</th>\n      <td>0</td>\n      <td>70.845391</td>\n      <td>3624</td>\n      <td>5886331</td>\n    </tr>\n    <tr>\n      <th>total</th>\n      <td>0</td>\n      <td>51.774644</td>\n      <td>3624</td>\n      <td>6270686</td>\n    </tr>\n  </tbody>\n</table>\n</div>"
     },
     "execution_count": 16,
     "metadata": {},
     "output_type": "execute_result"
    }
   ],
   "source": [
    "by_type = collections.defaultdict()\n",
    "for node_type in node_types:\n",
    "    by_type[node_type] = [len(node.content.split()) for document in documents for node in document.nodes if node.ntype == node_type]\n",
    "by_type[\"total\"] = [len(node.content.split()) for document in documents for node in document.nodes]\n",
    "\n",
    "pd.DataFrame(\n",
    "    index=[f\"'{node_type}'\" for node_type in node_types] + [\"total\"],\n",
    "    data={\n",
    "        \"min\": [min(by_type[node_type]) for node_type in node_types_and_total],\n",
    "        \"avg\": [mean(by_type[node_type]) for node_type in node_types_and_total],\n",
    "        \"max\": [max(by_type[node_type]) for node_type in node_types_and_total],\n",
    "        \"total\": [sum(by_type[node_type]) for node_type in node_types_and_total]\n",
    "    }\n",
    ")"
   ]
  },
  {
   "cell_type": "code",
   "execution_count": 17,
   "outputs": [
    {
     "data": {
      "text/plain": "       num\n0-9    376\n10-19  996\n20-29  171\n30-39   36\n40-49    6\n50-59    0\n60-69    0\n70-79    0\n80-89    0\n90-99    0\n≥100     0",
      "text/html": "<div>\n<style scoped>\n    .dataframe tbody tr th:only-of-type {\n        vertical-align: middle;\n    }\n\n    .dataframe tbody tr th {\n        vertical-align: top;\n    }\n\n    .dataframe thead th {\n        text-align: right;\n    }\n</style>\n<table border=\"1\" class=\"dataframe\">\n  <thead>\n    <tr style=\"text-align: right;\">\n      <th></th>\n      <th>num</th>\n    </tr>\n  </thead>\n  <tbody>\n    <tr>\n      <th>0-9</th>\n      <td>376</td>\n    </tr>\n    <tr>\n      <th>10-19</th>\n      <td>996</td>\n    </tr>\n    <tr>\n      <th>20-29</th>\n      <td>171</td>\n    </tr>\n    <tr>\n      <th>30-39</th>\n      <td>36</td>\n    </tr>\n    <tr>\n      <th>40-49</th>\n      <td>6</td>\n    </tr>\n    <tr>\n      <th>50-59</th>\n      <td>0</td>\n    </tr>\n    <tr>\n      <th>60-69</th>\n      <td>0</td>\n    </tr>\n    <tr>\n      <th>70-79</th>\n      <td>0</td>\n    </tr>\n    <tr>\n      <th>80-89</th>\n      <td>0</td>\n    </tr>\n    <tr>\n      <th>90-99</th>\n      <td>0</td>\n    </tr>\n    <tr>\n      <th>≥100</th>\n      <td>0</td>\n    </tr>\n  </tbody>\n</table>\n</div>"
     },
     "execution_count": 17,
     "metadata": {},
     "output_type": "execute_result"
    }
   ],
   "source": [
    "node_type = \"title\"\n",
    "\n",
    "by_type = [len([node for node in document.nodes if node.ntype == node_type]) for document in documents]\n",
    "values = dict(collections.Counter(by_type))\n",
    "\n",
    "histogram(values, 100, 10)"
   ],
   "metadata": {
    "collapsed": false
   }
  },
  {
   "cell_type": "markdown",
   "metadata": {},
   "source": [
    "### Number of nodes with empty content by node type"
   ]
  },
  {
   "cell_type": "code",
   "execution_count": 18,
   "metadata": {},
   "outputs": [
    {
     "data": {
      "text/plain": "                               num  fraction\n'title'                         20  0.000913\n'abstract'                       0  0.000000\n'figures-and-tables-section'     0  0.000000\n'figure-or-table'                0  0.000000\n'article-title'                  0  0.000000\n'p'                           1537  0.018499\ntotal                         1557  0.012856",
      "text/html": "<div>\n<style scoped>\n    .dataframe tbody tr th:only-of-type {\n        vertical-align: middle;\n    }\n\n    .dataframe tbody tr th {\n        vertical-align: top;\n    }\n\n    .dataframe thead th {\n        text-align: right;\n    }\n</style>\n<table border=\"1\" class=\"dataframe\">\n  <thead>\n    <tr style=\"text-align: right;\">\n      <th></th>\n      <th>num</th>\n      <th>fraction</th>\n    </tr>\n  </thead>\n  <tbody>\n    <tr>\n      <th>'title'</th>\n      <td>20</td>\n      <td>0.000913</td>\n    </tr>\n    <tr>\n      <th>'abstract'</th>\n      <td>0</td>\n      <td>0.000000</td>\n    </tr>\n    <tr>\n      <th>'figures-and-tables-section'</th>\n      <td>0</td>\n      <td>0.000000</td>\n    </tr>\n    <tr>\n      <th>'figure-or-table'</th>\n      <td>0</td>\n      <td>0.000000</td>\n    </tr>\n    <tr>\n      <th>'article-title'</th>\n      <td>0</td>\n      <td>0.000000</td>\n    </tr>\n    <tr>\n      <th>'p'</th>\n      <td>1537</td>\n      <td>0.018499</td>\n    </tr>\n    <tr>\n      <th>total</th>\n      <td>1557</td>\n      <td>0.012856</td>\n    </tr>\n  </tbody>\n</table>\n</div>"
     },
     "execution_count": 18,
     "metadata": {},
     "output_type": "execute_result"
    }
   ],
   "source": [
    "by_type = collections.defaultdict()\n",
    "for node_type in node_types:\n",
    "    by_type[node_type] = len([node for document in documents for node in document.nodes if node.ntype == node_type and node.content == \"\"])\n",
    "by_type[\"total\"] = len([node for document in documents for node in document.nodes if node.content == \"\"])\n",
    "\n",
    "by_type_all = collections.defaultdict()\n",
    "for node_type in node_types:\n",
    "    by_type_all[node_type] = len([node for document in documents for node in document.nodes if node.ntype == node_type])\n",
    "by_type_all[\"total\"] = len([node for document in documents for node in document.nodes])\n",
    "\n",
    "pd.DataFrame(\n",
    "    index=[f\"'{node_type}'\" for node_type in node_types] + [\"total\"],\n",
    "    data={\n",
    "        \"num\": [by_type[node_type] for node_type in node_types_and_total],\n",
    "        \"fraction\": [by_type[node_type] / by_type_all[node_type] for node_type in node_types_and_total]\n",
    "    }\n",
    ")"
   ]
  },
  {
   "cell_type": "markdown",
   "metadata": {},
   "source": [
    "### Most often-occurring content (at depth)"
   ]
  },
  {
   "cell_type": "code",
   "execution_count": 19,
   "metadata": {},
   "outputs": [
    {
     "name": "stdout",
     "output_type": "stream",
     "text": [
      "Most often-occurring contents for nodes of type 'title' at depth 2:\n"
     ]
    },
    {
     "data": {
      "text/plain": "   count                                               text\n0      2  Subjectivity Detection || Basic tasks of senti...\n1      1  Introduction || Minimally Supervised Learning ...\n2      1  Related Work || Minimally Supervised Learning ...\n3      1  Proposed Method || Minimally Supervised Learni...\n4      1  Proposed Method ::: Polarity Function || Minim...\n5      1  Proposed Method ::: Discourse Relation-Based E...\n6      1  Proposed Method ::: Discourse Relation-Based E...\n7      1  Proposed Method ::: Discourse Relation-Based E...\n8      1  Proposed Method ::: Discourse Relation-Based E...\n9      1  Proposed Method ::: Loss Functions || Minimall...",
      "text/html": "<div>\n<style scoped>\n    .dataframe tbody tr th:only-of-type {\n        vertical-align: middle;\n    }\n\n    .dataframe tbody tr th {\n        vertical-align: top;\n    }\n\n    .dataframe thead th {\n        text-align: right;\n    }\n</style>\n<table border=\"1\" class=\"dataframe\">\n  <thead>\n    <tr style=\"text-align: right;\">\n      <th></th>\n      <th>count</th>\n      <th>text</th>\n    </tr>\n  </thead>\n  <tbody>\n    <tr>\n      <th>0</th>\n      <td>2</td>\n      <td>Subjectivity Detection || Basic tasks of senti...</td>\n    </tr>\n    <tr>\n      <th>1</th>\n      <td>1</td>\n      <td>Introduction || Minimally Supervised Learning ...</td>\n    </tr>\n    <tr>\n      <th>2</th>\n      <td>1</td>\n      <td>Related Work || Minimally Supervised Learning ...</td>\n    </tr>\n    <tr>\n      <th>3</th>\n      <td>1</td>\n      <td>Proposed Method || Minimally Supervised Learni...</td>\n    </tr>\n    <tr>\n      <th>4</th>\n      <td>1</td>\n      <td>Proposed Method ::: Polarity Function || Minim...</td>\n    </tr>\n    <tr>\n      <th>5</th>\n      <td>1</td>\n      <td>Proposed Method ::: Discourse Relation-Based E...</td>\n    </tr>\n    <tr>\n      <th>6</th>\n      <td>1</td>\n      <td>Proposed Method ::: Discourse Relation-Based E...</td>\n    </tr>\n    <tr>\n      <th>7</th>\n      <td>1</td>\n      <td>Proposed Method ::: Discourse Relation-Based E...</td>\n    </tr>\n    <tr>\n      <th>8</th>\n      <td>1</td>\n      <td>Proposed Method ::: Discourse Relation-Based E...</td>\n    </tr>\n    <tr>\n      <th>9</th>\n      <td>1</td>\n      <td>Proposed Method ::: Loss Functions || Minimall...</td>\n    </tr>\n  </tbody>\n</table>\n</div>"
     },
     "execution_count": 19,
     "metadata": {},
     "output_type": "execute_result"
    }
   ],
   "source": [
    "node_type = \"title\"\n",
    "max_depth = max(len(list(document.breadcrumbs(node, Etype.PARENT))) for document in documents for node in document.nodes if node.ntype == node_type)\n",
    "depth = max_depth  # max_depth\n",
    "with_breadcrumbs = True\n",
    "\n",
    "if depth is None:\n",
    "    counter = collections.Counter([node.content for document in documents for node in document.nodes if node.ntype == node_type])\n",
    "else:\n",
    "    counter = collections.Counter()\n",
    "    for document in documents:\n",
    "        for node in document.nodes:\n",
    "            if node.ntype == node_type:\n",
    "                breadcrumbs = list(document.breadcrumbs(node, Etype.PARENT))\n",
    "                if len(breadcrumbs) == depth:\n",
    "                    if with_breadcrumbs:\n",
    "                        counter[\" || \".join(breadcrumb.content for breadcrumb in breadcrumbs)] += 1\n",
    "                    else:\n",
    "                        counter[node.content] += 1\n",
    "\n",
    "s = \"\" if depth is None else f\" at depth {depth}\"\n",
    "print(f\"Most often-occurring contents for nodes of type '{node_type}'{s}:\")\n",
    "\n",
    "pd.DataFrame(\n",
    "    data={\n",
    "        \"count\": [count for _, count in counter.most_common(10)],\n",
    "        \"text\": [text for text, _ in counter.most_common(10)],\n",
    "    }\n",
    ")"
   ]
  },
  {
   "cell_type": "markdown",
   "metadata": {},
   "source": [
    "## Example Document"
   ]
  },
  {
   "cell_type": "code",
   "execution_count": 20,
   "metadata": {},
   "outputs": [
    {
     "name": "stdout",
     "output_type": "stream",
     "text": [
      "Minimally Supervised Learning of Affective Events Using Discourse Relations\n",
      "Abstract\n",
      "Recognizing affective events that trigger positive or negative sentiment has a wide range of natural language processing applications but remains a challenging problem mainly because the polarity of an event is not necessarily predictable from its constituent words. In this paper, we propose to propagate affective polarity using discourse relations. Our method is simple and only requires a very small seed lexicon and a large raw corpus. Our experiments using Japanese data show that our method learns affective events effectively without manually labeled data. It also improves supervised learning results when labeled data are small.\n",
      "Introduction\n",
      "Affective events BIBREF0 are events that typically affect people in positive or negative ways. For example, getting money and playing sports are usually positive to the experiencers; catching cold and losing one's wallet are negative. Understanding affective events is important to various natural language processing (NLP) applications such as dialogue systems BIBREF1, question-answering systems BIBREF2, and humor recognition BIBREF3. In this paper, we work on recognizing the polarity of an affective event that is represented by a score ranging from $-1$ (negative) to 1 (positive).\n",
      "Learning affective events is challenging because, as the examples above suggest, the polarity of an event is not necessarily predictable from its constituent words. Combined with the unbounded combinatorial nature of language, the non-compositionality of affective polarity entails the need for large amounts of world knowledge, which can hardly be learned from small annotated data.\n",
      "In this paper, we propose a simple and effective method for learning affective events that only requires a very small seed lexicon and a large raw corpus. As illustrated in Figure FIGREF1, our key idea is that we can exploit discourse relations BIBREF4 to efficiently propagate polarity from seed predicates that directly report one's emotions (e.g., “to be glad” is positive). Suppose that events $x_1$ are $x_2$ are in the discourse relation of Cause (i.e., $x_1$ causes $x_2$). If the seed lexicon suggests $x_2$ is positive, $x_1$ is also likely to be positive because it triggers the positive emotion. The fact that $x_2$ is known to be negative indicates the negative polarity of $x_1$. Similarly, if $x_1$ and $x_2$ are in the discourse relation of Concession (i.e., $x_2$ in spite of $x_1$), the reverse of $x_2$'s polarity can be propagated to $x_1$. Even if $x_2$'s polarity is not known in advance, we can exploit the tendency of $x_1$ and $x_2$ to be of the same polarity (for Cause) or of the reverse polarity (for Concession) although the heuristic is not exempt from counterexamples. We transform this idea into objective functions and train neural network models that predict the polarity of a given event.\n",
      "We trained the models using a Japanese web corpus. Given the minimum amount of supervision, they performed well. In addition, the combination of annotated and unannotated data yielded a gain over a purely supervised baseline when labeled data were small.\n",
      "Related Work\n",
      "Learning affective events is closely related to sentiment analysis. Whereas sentiment analysis usually focuses on the polarity of what are described (e.g., movies), we work on how people are typically affected by events. In sentiment analysis, much attention has been paid to compositionality. Word-level polarity BIBREF5, BIBREF6, BIBREF7 and the roles of negation and intensification BIBREF8, BIBREF6, BIBREF9 are among the most important topics. In contrast, we are more interested in recognizing the sentiment polarity of an event that pertains to commonsense knowledge (e.g., getting money and catching cold).\n",
      "Label propagation from seed instances is a common approach to inducing sentiment polarities. While BIBREF5 and BIBREF10 worked on word- and phrase-level polarities, BIBREF0 dealt with event-level polarities. BIBREF5 and BIBREF10 linked instances using co-occurrence information and/or phrase-level coordinations (e.g., “$A$ and $B$” and “$A$ but $B$”). We shift our scope to event pairs that are more complex than phrase pairs, and consequently exploit discourse connectives as event-level counterparts of phrase-level conjunctions.\n",
      "BIBREF0 constructed a network of events using word embedding-derived similarities. Compared with this method, our discourse relation-based linking of events is much simpler and more intuitive.\n",
      "Some previous studies made use of document structure to understand the sentiment. BIBREF11 proposed a sentiment-specific pre-training strategy using unlabeled dialog data (tweet-reply pairs). BIBREF12 proposed a method of building a polarity-tagged corpus (ACP Corpus). They automatically gathered sentences that had positive or negative opinions utilizing HTML layout structures in addition to linguistic patterns. Our method depends only on raw texts and thus has wider applicability.\n",
      "\n",
      "Proposed Method\n",
      "\n",
      "Proposed Method ::: Polarity Function\n",
      "\n",
      "Our goal is to learn the polarity function $p(x)$, which predicts the sentiment polarity score of an event $x$. We approximate $p(x)$ by a neural network with the following form:\n",
      "${\\rm Encoder}$ outputs a vector representation of the event $x$. ${\\rm Linear}$ is a fully-connected layer and transforms the representation into a scalar. ${\\rm tanh}$ is the hyperbolic tangent and transforms the scalar into a score ranging from $-1$ to 1. In Section SECREF21, we consider two specific implementations of ${\\rm Encoder}$.\n",
      "\n",
      "Proposed Method ::: Discourse Relation-Based Event Pairs\n",
      "Our method requires a very small seed lexicon and a large raw corpus. We assume that we can automatically extract discourse-tagged event pairs, $(x_{i1}, x_{i2})$ ($i=1, \\cdots $) from the raw corpus. We refer to $x_{i1}$ and $x_{i2}$ as former and latter events, respectively. As shown in Figure FIGREF1, we limit our scope to two discourse relations: Cause and Concession.\n",
      "The seed lexicon consists of positive and negative predicates. If the predicate of an extracted event is in the seed lexicon and does not involve complex phenomena like negation, we assign the corresponding polarity score ($+1$ for positive events and $-1$ for negative events) to the event. We expect the model to automatically learn complex phenomena through label propagation. Based on the availability of scores and the types of discourse relations, we classify the extracted event pairs into the following three types.\n",
      "\n",
      "Proposed Method ::: Discourse Relation-Based Event Pairs ::: AL (Automatically Labeled Pairs)\n",
      "The seed lexicon matches (1) the latter event but (2) not the former event, and (3) their discourse relation type is Cause or Concession. If the discourse relation type is Cause, the former event is given the same score as the latter. Likewise, if the discourse relation type is Concession, the former event is given the opposite of the latter's score. They are used as reference scores during training.\n",
      "\n",
      "Proposed Method ::: Discourse Relation-Based Event Pairs ::: CA (Cause Pairs)\n",
      "The seed lexicon matches neither the former nor the latter event, and their discourse relation type is Cause. We assume the two events have the same polarities.\n",
      "\n",
      "Proposed Method ::: Discourse Relation-Based Event Pairs ::: CO (Concession Pairs)\n",
      "The seed lexicon matches neither the former nor the latter event, and their discourse relation type is Concession. We assume the two events have the reversed polarities.\n",
      "\n",
      "Proposed Method ::: Loss Functions\n",
      "Using AL, CA, and CO data, we optimize the parameters of the polarity function $p(x)$. We define a loss function for each of the three types of event pairs and sum up the multiple loss functions.\n",
      "We use mean squared error to construct loss functions. For the AL data, the loss function is defined as:\n",
      "where $x_{i1}$ and $x_{i2}$ are the $i$-th pair of the AL data. $r_{i1}$ and $r_{i2}$ are the automatically-assigned scores of $x_{i1}$ and $x_{i2}$, respectively. $N_{\\rm AL}$ is the total number of AL pairs, and $\\lambda _{\\rm AL}$ is a hyperparameter.\n",
      "For the CA data, the loss function is defined as:\n",
      "$y_{i1}$ and $y_{i2}$ are the $i$-th pair of the CA pairs. $N_{\\rm CA}$ is the total number of CA pairs. $\\lambda _{\\rm CA}$ and $\\mu $ are hyperparameters. The first term makes the scores of the two events closer while the second term prevents the scores from shrinking to zero.\n",
      "The loss function for the CO data is defined analogously:\n",
      "The difference is that the first term makes the scores of the two events distant from each other.\n",
      "\n",
      "Experiments\n",
      "\n",
      "Experiments ::: Dataset\n",
      "\n",
      "Experiments ::: Dataset ::: AL, CA, and CO\n",
      "As a raw corpus, we used a Japanese web corpus that was compiled through the procedures proposed by BIBREF13. To extract event pairs tagged with discourse relations, we used the Japanese dependency parser KNP and in-house postprocessing scripts BIBREF14. KNP used hand-written rules to segment each sentence into what we conventionally called clauses (mostly consecutive text chunks), each of which contained one main predicate. KNP also identified the discourse relations of event pairs if explicit discourse connectives BIBREF4 such as “ので” (because) and “のに” (in spite of) were present. We treated Cause/Reason (原因・理由) and Condition (条件) in the original tagset BIBREF15 as Cause and Concession (逆接) as Concession, respectively. Here is an example of event pair extraction.\n",
      ". 重大な失敗を犯したので、仕事をクビになった。\n",
      "Because [I] made a serious mistake, [I] got fired.\n",
      "From this sentence, we extracted the event pair of “重大な失敗を犯す” ([I] make a serious mistake) and “仕事をクビになる” ([I] get fired), and tagged it with Cause.\n",
      "We constructed our seed lexicon consisting of 15 positive words and 15 negative words, as shown in Section SECREF27. From the corpus of about 100 million sentences, we obtained 1.4 millions event pairs for AL, 41 millions for CA, and 6 millions for CO. We randomly selected subsets of AL event pairs such that positive and negative latter events were equal in size. We also sampled event pairs for each of CA and CO such that it was five times larger than AL. The results are shown in Table TABREF16.\n",
      "Experiments ::: Dataset ::: ACP (ACP Corpus)\n",
      "We used the latest version of the ACP Corpus BIBREF12 for evaluation. It was used for (semi-)supervised training as well. Extracted from Japanese websites using HTML layouts and linguistic patterns, the dataset covered various genres. For example, the following two sentences were labeled positive and negative, respectively:\n",
      ". 作業が楽だ。\n",
      "The work is easy.\n",
      ". 駐車場がない。\n",
      "There is no parking lot.\n",
      "Although the ACP corpus was originally constructed in the context of sentiment analysis, we found that it could roughly be regarded as a collection of affective events. We parsed each sentence and extracted the last clause in it. The train/dev/test split of the data is shown in Table TABREF19.\n",
      "The objective function for supervised training is:\n",
      "\n",
      "where $v_i$ is the $i$-th event, $R_i$ is the reference score of $v_i$, and $N_{\\rm ACP}$ is the number of the events of the ACP Corpus.\n",
      "To optimize the hyperparameters, we used the dev set of the ACP Corpus. For the evaluation, we used the test set of the ACP Corpus. The model output was classified as positive if $p(x) > 0$ and negative if $p(x) \\le 0$.\n",
      "\n",
      "Experiments ::: Model Configurations\n",
      "As for ${\\rm Encoder}$, we compared two types of neural networks: BiGRU and BERT. GRU BIBREF16 is a recurrent neural network sequence encoder. BiGRU reads an input sequence forward and backward and the output is the concatenation of the final forward and backward hidden states.\n",
      "BERT BIBREF17 is a pre-trained multi-layer bidirectional Transformer BIBREF18 encoder. Its output is the final hidden state corresponding to the special classification tag ([CLS]). For the details of ${\\rm Encoder}$, see Sections SECREF30.\n",
      "We trained the model with the following four combinations of the datasets: AL, AL+CA+CO (two proposed models), ACP (supervised), and ACP+AL+CA+CO (semi-supervised). The corresponding objective functions were: $\\mathcal {L}_{\\rm AL}$, $\\mathcal {L}_{\\rm AL} + \\mathcal {L}_{\\rm CA} + \\mathcal {L}_{\\rm CO}$, $\\mathcal {L}_{\\rm ACP}$, and $\\mathcal {L}_{\\rm ACP} + \\mathcal {L}_{\\rm AL} + \\mathcal {L}_{\\rm CA} + \\mathcal {L}_{\\rm CO}$.\n",
      "\n",
      "Experiments ::: Results and Discussion\n",
      "\n",
      "Table TABREF23 shows accuracy. As the Random baseline suggests, positive and negative labels were distributed evenly. The Random+Seed baseline made use of the seed lexicon and output the corresponding label (or the reverse of it for negation) if the event's predicate is in the seed lexicon. We can see that the seed lexicon itself had practically no impact on prediction.\n",
      "The models in the top block performed considerably better than the random baselines. The performance gaps with their (semi-)supervised counterparts, shown in the middle block, were less than 7%. This demonstrates the effectiveness of discourse relation-based label propagation.\n",
      "Comparing the model variants, we obtained the highest score with the BiGRU encoder trained with the AL+CA+CO dataset. BERT was competitive but its performance went down if CA and CO were used in addition to AL. We conjecture that BERT was more sensitive to noises found more frequently in CA and CO.\n",
      "Contrary to our expectations, supervised models (ACP) outperformed semi-supervised models (ACP+AL+CA+CO). This suggests that the training set of 0.6 million events is sufficiently large for training the models. For comparison, we trained the models with a subset (6,000 events) of the ACP dataset. As the results shown in Table TABREF24 demonstrate, our method is effective when labeled data are small.\n",
      "The result of hyperparameter optimization for the BiGRU encoder was as follows:\n",
      "As the CA and CO pairs were equal in size (Table TABREF16), $\\lambda _{\\rm CA}$ and $\\lambda _{\\rm CO}$ were comparable values. $\\lambda _{\\rm CA}$ was about one-third of $\\lambda _{\\rm CO}$, and this indicated that the CA pairs were noisier than the CO pairs. A major type of CA pairs that violates our assumption was in the form of “$\\textit {problem}_{\\text{negative}}$ causes $\\textit {solution}_{\\text{positive}}$”:\n",
      ". (悪いところがある, よくなるように努力する)\n",
      "(there is a bad point, [I] try to improve [it])\n",
      "The polarities of the two events were reversed in spite of the Cause relation, and this lowered the value of $\\lambda _{\\rm CA}$.\n",
      "Some examples of model outputs are shown in Table TABREF26. The first two examples suggest that our model successfully learned negation without explicit supervision. Similarly, the next two examples differ only in voice but the model correctly recognized that they had opposite polarities. The last two examples share the predicate “落とす\" (drop) and only the objects are different. The second event “肩を落とす\" (lit. drop one's shoulders) is an idiom that expresses a disappointed feeling. The examples demonstrate that our model correctly learned non-compositional expressions.\n",
      "\n",
      "Conclusion\n",
      "In this paper, we proposed to use discourse relations to effectively propagate polarities of affective events from seeds. Experiments show that, even with a minimal amount of supervision, the proposed method performed well.\n",
      "Although event pairs linked by discourse analysis are shown to be useful, they nevertheless contain noises. Adding linguistically-motivated filtering rules would help improve the performance.\n",
      "Acknowledgments\n",
      "We thank Nobuhiro Kaji for providing the ACP Corpus and Hirokazu Kiyomaru and Yudai Kishimoto for their help in extracting event pairs. This work was partially supported by Yahoo! Japan Corporation.\n",
      "Appendices ::: Seed Lexicon ::: Positive Words\n",
      "喜ぶ (rejoice), 嬉しい (be glad), 楽しい (be pleasant), 幸せ (be happy), 感動 (be impressed), 興奮 (be excited), 懐かしい (feel nostalgic), 好き (like), 尊敬 (respect), 安心 (be relieved), 感心 (admire), 落ち着く (be calm), 満足 (be satisfied), 癒される (be healed), and スッキリ (be refreshed).\n",
      "Appendices ::: Seed Lexicon ::: Negative Words\n",
      "怒る (get angry), 悲しい (be sad), 寂しい (be lonely), 怖い (be scared), 不安 (feel anxious), 恥ずかしい (be embarrassed), 嫌 (hate), 落ち込む (feel down), 退屈 (be bored), 絶望 (feel hopeless), 辛い (have a hard time), 困る (have trouble), 憂鬱 (be depressed), 心配 (be worried), and 情けない (be sorry).\n",
      "Appendices ::: Settings of Encoder ::: BiGRU\n",
      "The dimension of the embedding layer was 256. The embedding layer was initialized with the word embeddings pretrained using the Web corpus. The input sentences were segmented into words by the morphological analyzer Juman++. The vocabulary size was 100,000. The number of hidden layers was 2. The dimension of hidden units was 256. The optimizer was Momentum SGD BIBREF21. The mini-batch size was 1024. We ran 100 epochs and selected the snapshot that achieved the highest score for the dev set.\n",
      "Appendices ::: Settings of Encoder ::: BERT\n",
      "We used a Japanese BERT model pretrained with Japanese Wikipedia. The input sentences were segmented into words by Juman++, and words were broken into subwords by applying BPE BIBREF20. The vocabulary size was 32,000. The maximum length of an input sequence was 128. The number of hidden layers was 12. The dimension of hidden units was 768. The number of self-attention heads was 12. The optimizer was Adam BIBREF19. The mini-batch size was 32. We ran 1 epoch.\n",
      "Figures and Tables\n",
      "Figure 1: An overview of our method. We focus on pairs of events, the former events and the latter events, which are connected with a discourse relation, CAUSE or CONCESSION. Dropped pronouns are indicated by brackets in English translations. We divide the event pairs into three types: AL, CA, and CO. In AL, the polarity of a latter event is automatically identified as either positive or negative, according to the seed lexicon (the positive word is colored red and the negative word blue). We propagate the latter event’s polarity to the former event. The same polarity as the latter event is used for the discourse relation CAUSE, and the reversed polarity for CONCESSION. In CA and CO, the latter event’s polarity is not known. Depending on the discourse relation, we encourage the two events’ polarities to be the same (CA) or reversed (CO). Details are given in Section 3.2.\n",
      "Table 1: Statistics of the AL, CA, and CO datasets.\n",
      "Table 2: Details of the ACP dataset.\n",
      "Table 5: Examples of polarity scores predicted by the BiGRU model trained with AL+CA+CO.\n",
      "Table 3: Performance of various models on the ACP test set.\n",
      "Table 4: Results for small labeled training data. Given the performance with the full dataset, we show BERT trained only with the AL data.\n"
     ]
    }
   ],
   "source": [
    "print(documents[0].to_plaintext())"
   ]
  },
  {
   "cell_type": "markdown",
   "metadata": {},
   "source": [
    "## Metadata"
   ]
  },
  {
   "cell_type": "markdown",
   "metadata": {},
   "source": [
    "### Document metadata schema"
   ]
  },
  {
   "cell_type": "code",
   "execution_count": 21,
   "metadata": {},
   "outputs": [
    {
     "name": "stdout",
     "output_type": "stream",
     "text": [
      "  1/1x [\n",
      "      1585/1585x {\n",
      "        'arxiv_id': 1585/1585x non-empty string\n",
      "        'ix_counter': 1585/1585x number\n",
      "        'qas': \n",
      "          1585/1585x [\n",
      "              5049/5049x {\n",
      "                'paper_read': (1): 3725/5049x non-empty string || (2): 1324/5049x empty string\n",
      "                'topic_background': (1): 3725/5049x non-empty string || (2): 1324/5049x empty string\n",
      "                'nlp_background': (1): 3876/5049x non-empty string || (2): 1173/5049x empty string\n",
      "                'question': 5049/5049x non-empty string\n",
      "                'search_query': (1): 3498/5049x empty string || (2): 1551/5049x non-empty string\n",
      "                'question_id': 5049/5049x non-empty string\n",
      "                'question_writer': 5049/5049x non-empty string\n",
      "                'answers': \n",
      "                  5049/5049x [\n",
      "                      7993/7993x {\n",
      "                        'answer': \n",
      "                          7993/7993x {\n",
      "                            'highlighted_evidence': 7993/7993x [10706/10706x non-empty string]\n",
      "                            'unanswerable': 7993/7993x number\n",
      "                            'extractive_spans': 7993/7993x [8174/8174x non-empty string]\n",
      "                            'yes_no': (1): 6883/7993x null || (2): 1110/7993x number\n",
      "                            'evidence': 7993/7993x [12761/12761x non-empty string]\n",
      "                            'free_form_answer': (1): 1931/7993x non-empty string || (2): 6062/7993x empty string\n",
      "                          }\n",
      "                        'worker_id': 7993/7993x non-empty string\n",
      "                        'annotation_id': 7993/7993x non-empty string\n",
      "                      }\n",
      "                  ]\n",
      "              }\n",
      "          ]\n",
      "      }\n",
      "  ]\n",
      "\n"
     ]
    }
   ],
   "source": [
    "metadata = [document.meta for document in documents]\n",
    "print(parse_json_object(metadata))"
   ]
  },
  {
   "cell_type": "markdown",
   "metadata": {},
   "source": [
    "### Node metadata schema"
   ]
  },
  {
   "cell_type": "code",
   "execution_count": 22,
   "metadata": {},
   "outputs": [
    {
     "name": "stdout",
     "output_type": "stream",
     "text": [
      "  1/1x [\n",
      "      (1):\n",
      "      109751/121115x {\n",
      "        'is_evidence_for': \n",
      "          109751/109751x [\n",
      "              11663/11663x {\n",
      "                'evidence_ix': 11663/11663x number\n",
      "                'annotation_id': 11663/11663x non-empty string\n",
      "              }\n",
      "          ]\n",
      "      }\n",
      "\n",
      "      (2):\n",
      "      11364/121115x {\n",
      "        'is_evidence_for': \n",
      "          11364/11364x [\n",
      "              1092/1092x {\n",
      "                'evidence_ix': 1092/1092x number\n",
      "                'annotation_id': 1092/1092x non-empty string\n",
      "              }\n",
      "          ]\n",
      "        'file': 11364/11364x non-empty string\n",
      "      }\n",
      "  ]\n",
      "\n"
     ]
    }
   ],
   "source": [
    "metadata = [node.meta for document in documents for node in document.nodes]\n",
    "print(parse_json_object(metadata))"
   ]
  },
  {
   "cell_type": "markdown",
   "source": [
    "# For QASPER shallow: Get number of documents with ':::' in section titles"
   ],
   "metadata": {
    "collapsed": false
   }
  },
  {
   "cell_type": "code",
   "execution_count": 12,
   "outputs": [
    {
     "name": "stdout",
     "output_type": "stream",
     "text": [
      "0 of 1585 in total.\n"
     ]
    }
   ],
   "source": [
    "assert 'QASPER' in path and 'shallow' in path\n",
    "n_with_colons = 0\n",
    "for doc in documents:\n",
    "    for node in doc.nodes:\n",
    "        if ':::' in node.content:\n",
    "            n_with_colons += 1\n",
    "            break\n",
    "\n",
    "\n",
    "print(f'{n_with_colons} of {len(documents)} in total.')"
   ],
   "metadata": {
    "collapsed": false
   }
  },
  {
   "cell_type": "code",
   "execution_count": 11,
   "outputs": [
    {
     "data": {
      "text/plain": "True"
     },
     "execution_count": 11,
     "metadata": {},
     "output_type": "execute_result"
    }
   ],
   "source": [
    "':::' in documents[0].nodes[16].content"
   ],
   "metadata": {
    "collapsed": false
   }
  }
 ],
 "metadata": {
  "kernelspec": {
   "display_name": "Python 3 (ipykernel)",
   "language": "python",
   "name": "python3"
  },
  "language_info": {
   "codemirror_mode": {
    "name": "ipython",
    "version": 3
   },
   "file_extension": ".py",
   "mimetype": "text/x-python",
   "name": "python",
   "nbconvert_exporter": "python",
   "pygments_lexer": "ipython3",
   "version": "3.9.7"
  }
 },
 "nbformat": 4,
 "nbformat_minor": 1
}
